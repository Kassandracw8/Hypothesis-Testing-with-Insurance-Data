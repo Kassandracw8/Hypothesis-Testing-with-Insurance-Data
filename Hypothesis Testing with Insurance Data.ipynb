     "data": {
      "text/plain": [
       "LeveneResult(statistic=520.7468821724297, pvalue=2.4247238784347824e-97)"
      ]
     },
     "execution_count": 11,
     "metadata": {},
     "output_type": "execute_result"
    }
   ],
   "source": [
    "var_result = stats.levene(smoker_charges, non_smoker_charges)\n",
    "var_result"
   ]
  },
  {
   "cell_type": "code",
   "execution_count": 12,
   "id": "da207fda",
   "metadata": {},
   "outputs": [
    {
     "data": {
      "text/plain": [
       "Ttest_indResult(statistic=-33.732305987092516, pvalue=2.575322662587431e-104)"
      ]
     },
     "execution_count": 12,
     "metadata": {},
     "output_type": "execute_result"
    }
   ],
   "source": [
    "ttest_result = stats.ttest_ind(non_smoker_charges, smoker_charges, \n",
    "                              equal_var=False)\n",
    "ttest_result"
   ]
  },
  {
   "cell_type": "markdown",
   "id": "5abdba2f",
   "metadata": {},
   "source": [
    "The pvalue is < 0.05 so we can reject the null hypothesis and accept that smokers have higher insurance charges than non-smokers"
   ]
  },
  {
   "cell_type": "markdown",
   "id": "922b0223",
   "metadata": {},
   "source": [
    "Question 2: Are men more likely to smoke than women?\n",
    "\n",
    "Null Hypothesis: Men are not more likely to smoke than women\n",
    "Alternative Hypothesis: Men are more likely to smoke than women."
   ]
  },
  {
   "cell_type": "code",
   "execution_count": 14,
   "id": "add3f4d2",
   "metadata": {},
   "outputs": [
    {
     "name": "stdout",
     "output_type": "stream",
     "text": [
      "<class 'pandas.core.frame.DataFrame'>\n",
      "RangeIndex: 1338 entries, 0 to 1337\n",
      "Data columns (total 7 columns):\n",
      " #   Column    Non-Null Count  Dtype  \n",
      "---  ------    --------------  -----  \n",
      " 0   age       1338 non-null   int64  \n",
      " 1   sex       1338 non-null   object \n",
      " 2   bmi       1338 non-null   float64\n",
      " 3   children  1338 non-null   int64  \n",
      " 4   smoker    1338 non-null   object \n",
      " 5   region    1338 non-null   object \n",
      " 6   charges   1338 non-null   float64\n",
      "dtypes: float64(2), int64(2), object(3)\n",
      "memory usage: 73.3+ KB\n"
     ]
    }
   ],
   "source": [
    "df.info()"
   ]
  },
  {
   "cell_type": "code",
   "execution_count": 15,
   "id": "1f4db0cb",
   "metadata": {},
   "outputs": [],
   "source": [
    "table = pd.crosstab(index=df['sex'], columns=df['smoker'])"
   ]
  },
  {
   "cell_type": "code",
   "execution_count": 16,
   "id": "f227e454",
   "metadata": {},
   "outputs": [
    {
     "data": {
      "image/png": "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\n",
      "text/plain": [
       "<Figure size 640x480 with 1 Axes>"
      ]
     },
     "metadata": {},
     "output_type": "display_data"
    }
   ],
   "source": [
    "ax = sns.countplot(data=df, x='sex', hue='smoker');\n",
    "ax.set_title('Number of Smokers vs Non-Smokers by Sex');"
   ]
  },
  {
   "cell_type": "code",
   "execution_count": 18,
   "id": "a46102ed",
   "metadata": {},
   "outputs": [
    {
     "name": "stdout",
     "output_type": "stream",
     "text": [
      "0.006548143503580696\n"
     ]
    },
    {
     "data": {
      "text/plain": [
       "True"
      ]
     },
     "execution_count": 18,
     "metadata": {},
     "output_type": "execute_result"
    }
   ],
   "source": [
    "chi_result = stats.chi2_contingency(table)\n",
    "\n",
    "\n",
    "chi2, p, deg_free, expected_vals = chi_result\n",
    "print(p)\n",
    "p<0.05"
   ]
  },
  {
   "cell_type": "markdown",
   "id": "fe47b452",
   "metadata": {},
   "source": [
    "The pvalue is < 0.05 so we can reject the null and conclude that men are more likely to smoke than women"
   ]
  },
  {
   "cell_type": "markdown",
   "id": "81973d96",
   "metadata": {},
   "source": [
    "Question 3: Do different regions have different charges, on average.\n",
    "\n",
    "Null Hypothesis: Different regions have the same charges on average.\n",
    "Alternate Hypothesis: Different regions have a significant difference in charges on average."
   ]
  },
  {
   "cell_type": "code",
   "execution_count": 19,
   "id": "174af72a",
   "metadata": {},
   "outputs": [
    {
     "name": "stdout",
     "output_type": "stream",
     "text": [
      "<class 'pandas.core.frame.DataFrame'>\n",
      "RangeIndex: 1338 entries, 0 to 1337\n",
      "Data columns (total 7 columns):\n",
      " #   Column    Non-Null Count  Dtype  \n",
      "---  ------    --------------  -----  \n",
      " 0   age       1338 non-null   int64  \n",
      " 1   sex       1338 non-null   object \n",
      " 2   bmi       1338 non-null   float64\n",
      " 3   children  1338 non-null   int64  \n",
      " 4   smoker    1338 non-null   object \n",
      " 5   region    1338 non-null   object \n",
      " 6   charges   1338 non-null   float64\n",
      "dtypes: float64(2), int64(2), object(3)\n",
      "memory usage: 73.3+ KB\n"
     ]
    }
   ],
   "source": [
    "df.info()"
   ]
  },
  {
   "cell_type": "code",
   "execution_count": 20,
   "id": "8e7cc07a",
   "metadata": {},
   "outputs": [
    {
     "data": {
      "text/plain": [
       "southeast    364\n",
       "southwest    325\n",
       "northwest    325\n",
       "northeast    324\n",
       "Name: region, dtype: int64"
      ]
     },
     "execution_count": 20,
     "metadata": {},
     "output_type": "execute_result"
    }
   ],
   "source": [
    "df['region'].value_counts()"
   ]
  },
  {
   "cell_type": "code",
   "execution_count": 22,
   "id": "b4dac894",
   "metadata": {},
   "outputs": [
    {
     "data": {
      "image/png": "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\n",
      "text/plain": [
       "<Figure size 640x480 with 1 Axes>"
      ]
     },
     "metadata": {},
     "output_type": "display_data"
    }
   ],
   "source": [
    "sns.barplot(data=df, x='region', y='charges');"
   ]
  },
  {
   "cell_type": "code",
   "execution_count": 23,
   "id": "8603ebed",
   "metadata": {},
   "outputs": [
    {
     "data": {
      "text/plain": [
       "dict_keys(['southwest', 'southeast', 'northwest', 'northeast'])"
      ]
     },
     "execution_count": 23,
     "metadata": {},
     "output_type": "execute_result"
    }
   ],
   "source": [
    "# Create groups dictionary\n",
    "# Empty dictionary\n",
    "groups = {}\n",
    "\n",
    "# For loop to iterate through dataframe to assign regions to keys and \n",
    "# charges to values\n",
    "for i in df['region'].unique():\n",
    "    \n",
    "    # Get series for group and rename\n",
    "    data = df.loc[df['region'] == i, 'charges'].copy()\n",
    "    \n",
    "    # Save into dictionary\n",
    "    groups[i] = data\n",
    "groups.keys()"
   ]
  },
  {
   "cell_type": "code",
   "execution_count": 24,
   "id": "2eee91f0",
   "metadata": {
    "collapsed": true
   },
   "outputs": [
    {
     "data": {
      "text/html": [
       "<div>\n",
       "<style scoped>\n",
       "    .dataframe tbody tr th:only-of-type {\n",
       "        vertical-align: middle;\n",
       "    }\n",
       "\n",
       "    .dataframe tbody tr th {\n",
       "        vertical-align: top;\n",
       "    }\n",
       "\n",
       "    .dataframe thead th {\n",
       "        text-align: right;\n",
       "    }\n",
       "</style>\n",
       "<table border=\"1\" class=\"dataframe\">\n",
       "  <thead>\n",
       "    <tr style=\"text-align: right;\">\n",
       "      <th></th>\n",
       "      <th>n</th>\n",
       "      <th>p</th>\n",
       "      <th>test stat</th>\n",
       "      <th>sig</th>\n",
       "    </tr>\n",
       "  </thead>\n",
       "  <tbody>\n",
       "    <tr>\n",
       "      <th>southwest</th>\n",
       "      <td>325.0</td>\n",
       "      <td>6.125298e-23</td>\n",
       "      <td>102.294059</td>\n",
       "      <td>True</td>\n",
       "    </tr>\n",
       "    <tr>\n",
       "      <th>southeast</th>\n",
       "      <td>364.0</td>\n",
       "      <td>4.953297e-15</td>\n",
       "      <td>65.877446</td>\n",
       "      <td>True</td>\n",
       "    </tr>\n",
       "    <tr>\n",
       "      <th>northwest</th>\n",
       "      <td>325.0</td>\n",
       "      <td>5.184209e-24</td>\n",
       "      <td>107.232850</td>\n",
       "      <td>True</td>\n",
       "    </tr>\n",
       "    <tr>\n",
       "      <th>northeast</th>\n",
       "      <td>324.0</td>\n",
       "      <td>1.455431e-19</td>\n",
       "      <td>86.747629</td>\n",
       "      <td>True</td>\n",
       "    </tr>\n",
       "  </tbody>\n",
       "</table>\n",
       "</div>"
      ],
      "text/plain": [
       "               n             p   test stat   sig\n",
       "southwest  325.0  6.125298e-23  102.294059  True\n",
       "southeast  364.0  4.953297e-15   65.877446  True\n",
       "northwest  325.0  5.184209e-24  107.232850  True\n",
       "northeast  324.0  1.455431e-19   86.747629  True"
      ]
     },
     "execution_count": 24,
     "metadata": {},
     "output_type": "execute_result"
    }
   ],
   "source": [
    "# Test normality\n",
    "# Run normal test on each group\n",
    "norm_results = {}\n",
    "\n",
    "for i, data in groups.items():\n",
    "    stat, p = stats.normaltest(data)\n",
    "    norm_results[i] = {'n': len(data), 'p': p, 'test stat': stat}\n",
    "\n",
    "# Convert to dataframe\n",
    "norm_results_df = pd.DataFrame(norm_results).T\n",
    "### checking sig with pandas \n",
    "norm_results_df['sig'] = norm_results_df['p'] < .05 \n",
    "norm_results_df\n"
   ]
  },
  {
   "cell_type": "code",
   "execution_count": 26,
   "id": "7b56ffaa",
   "metadata": {},
   "outputs": [
    {
     "data": {
      "text/plain": [
       "LeveneResult(statistic=5.559966758410606, pvalue=0.0008610590250786703)"
      ]
     },
     "execution_count": 26,
     "metadata": {},
     "output_type": "execute_result"
    }
   ],
   "source": [
    "# Testing for equal variance\n",
    "stats.levene(*groups.values())"
   ]
  },
  {
   "cell_type": "code",
   "execution_count": 28,
   "id": "c98abb81",
   "metadata": {},
   "outputs": [
    {
     "data": {
      "text/plain": [
       "F_onewayResult(statistic=2.96962669358912, pvalue=0.0308933560705201)"
      ]
     },
     "execution_count": 28,
     "metadata": {},
     "output_type": "execute_result"
    }
   ],
   "source": [
    "result = stats.f_oneway(*groups.values())\n",
    "result"
   ]
  },
  {
   "cell_type": "code",
   "execution_count": 29,
   "id": "97921717",
   "metadata": {},
   "outputs": [
    {
     "data": {
      "text/plain": [
       "KruskalResult(statistic=4.734181215658743, pvalue=0.19232908072121002)"
      ]
     },
     "execution_count": 29,
     "metadata": {},
     "output_type": "execute_result"
    }
   ],
   "source": [
    "result = stats.kruskal(*groups.values())\n",
    "result"
   ]
  },
  {
   "cell_type": "markdown",
   "id": "eb0548f6",
   "metadata": {},
   "source": [
    "The pvalue is > 0.05 so we fail to reject the null hypothesis\n",
    "\n",
    " "
   ]
  }
 ],
 "metadata": {
  "kernelspec": {
   "display_name": "Python (dojo-env)",
   "language": "python",
   "name": "dojo-env"
  },
  "language_info": {
   "codemirror_mode": {
    "name": "ipython",
    "version": 3
   },
   "file_extension": ".py",
   "mimetype": "text/x-python",
   "name": "python",
   "nbconvert_exporter": "python",
   "pygments_lexer": "ipython3",
   "version": "3.9.15"
  },
  "toc": {
   "base_numbering": 1,
   "nav_menu": {},
   "number_sections": true,
   "sideBar": true,
   "skip_h1_title": false,
   "title_cell": "Table of Contents",
   "title_sidebar": "Contents",
   "toc_cell": false,
   "toc_position": {},
   "toc_section_display": true,
   "toc_window_display": false
  }
 },
 "nbformat": 4,
 "nbformat_minor": 5
}
